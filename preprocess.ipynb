{
 "cells": [
  {
   "cell_type": "code",
   "execution_count": 1,
   "metadata": {},
   "outputs": [],
   "source": [
    "import csv"
   ]
  },
  {
   "cell_type": "code",
   "execution_count": 8,
   "metadata": {},
   "outputs": [],
   "source": [
    "def read_csv(filename):\n",
    "    return list(csv.reader(open(filename,newline='\\n')))\n",
    "def write_result(filename,result):\n",
    "    with open(filename,'w',newline='') as csvfile:\n",
    "        spamwriter = csv.writer(csvfile)\n",
    "        spamwriter.writerow(['Id','Predicted'])\n",
    "        for x in range(1,len(result)+1):\n",
    "            spamwriter.writerow([x,result[x-1]])\n",
    "def combine_csv(target_filename,arr):\n",
    "    with open(target_filename,'w',newline='') as csvfile:\n",
    "        spamwriter = csv.writer(csvfile)\n",
    "        for item in arr:\n",
    "            spamwriter.writerow(item)"
   ]
  },
  {
   "cell_type": "code",
   "execution_count": 9,
   "metadata": {},
   "outputs": [
    {
     "data": {
      "text/plain": [
       "2000000"
      ]
     },
     "execution_count": 9,
     "metadata": {},
     "output_type": "execute_result"
    }
   ],
   "source": [
    "len(read_csv(\"label1.csv\"))"
   ]
  },
  {
   "cell_type": "code",
   "execution_count": 10,
   "metadata": {},
   "outputs": [],
   "source": [
    "arr = []\n",
    "for x in range(1,6):\n",
    "    arr += read_csv(f\"train{x}.csv\")\n",
    "combine_csv(\"./data/train_data.csv\",arr)"
   ]
  },
  {
   "cell_type": "code",
   "execution_count": 11,
   "metadata": {},
   "outputs": [],
   "source": [
    "arr = []\n",
    "for x in range(1,6):\n",
    "    arr += read_csv(f\"label{x}.csv\")\n",
    "combine_csv(\"./data/train_label.csv\",arr)"
   ]
  },
  {
   "cell_type": "code",
   "execution_count": 12,
   "metadata": {},
   "outputs": [],
   "source": [
    "arr = []\n",
    "for x in range(1,7):\n",
    "    arr += read_csv(f\"test{x}.csv\")\n",
    "combine_csv(\"./data/test_data.csv\",arr)"
   ]
  },
  {
   "cell_type": "code",
   "execution_count": null,
   "metadata": {},
   "outputs": [],
   "source": []
  }
 ],
 "metadata": {
  "kernelspec": {
   "display_name": "Python 3",
   "language": "python",
   "name": "python3"
  },
  "language_info": {
   "codemirror_mode": {
    "name": "ipython",
    "version": 3
   },
   "file_extension": ".py",
   "mimetype": "text/x-python",
   "name": "python",
   "nbconvert_exporter": "python",
   "pygments_lexer": "ipython3",
   "version": "3.6.5"
  }
 },
 "nbformat": 4,
 "nbformat_minor": 2
}
